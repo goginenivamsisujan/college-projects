{
 "cells": [
  {
   "cell_type": "markdown",
   "id": "ecc5c302",
   "metadata": {
    "id": "ecc5c302"
   },
   "source": [
    "# Data visualization"
   ]
  },
  {
   "cell_type": "markdown",
   "id": "c7616a85",
   "metadata": {
    "id": "c7616a85"
   },
   "source": [
    " \n",
    "**As a part of this project, we will be using IMDB dataset to visualize the data and find some patterns in it**"
   ]
  },
  {
   "cell_type": "code",
   "execution_count": 1,
   "id": "3af3aacb",
   "metadata": {
    "id": "3af3aacb"
   },
   "outputs": [],
   "source": [
    "# Import python packages\n",
    "import numpy as np\n",
    "import pandas as pd\n",
    "from pandas import Series, DataFrame\n",
    "import matplotlib.pyplot as plt\n",
    "import seaborn as sns\n",
    "%matplotlib inline"
   ]
  },
  {
   "cell_type": "code",
   "execution_count": 97,
   "id": "dcdb07f1",
   "metadata": {
    "id": "dcdb07f1"
   },
   "outputs": [],
   "source": [
    "# Read the file\n",
    "df_data=pd.read_csv('IMDB_movie_reviews_details.csv', encoding='latin1')"
   ]
  },
  {
   "cell_type": "code",
   "execution_count": 3,
   "id": "fc2d7fce",
   "metadata": {
    "id": "fc2d7fce"
   },
   "outputs": [
    {
     "data": {
      "text/html": [
       "<div>\n",
       "<style scoped>\n",
       "    .dataframe tbody tr th:only-of-type {\n",
       "        vertical-align: middle;\n",
       "    }\n",
       "\n",
       "    .dataframe tbody tr th {\n",
       "        vertical-align: top;\n",
       "    }\n",
       "\n",
       "    .dataframe thead th {\n",
       "        text-align: right;\n",
       "    }\n",
       "</style>\n",
       "<table border=\"1\" class=\"dataframe\">\n",
       "  <thead>\n",
       "    <tr style=\"text-align: right;\">\n",
       "      <th></th>\n",
       "      <th>Unnamed: 0</th>\n",
       "      <th>name</th>\n",
       "      <th>year</th>\n",
       "      <th>runtime</th>\n",
       "      <th>genre</th>\n",
       "      <th>rating</th>\n",
       "      <th>metascore</th>\n",
       "      <th>timeline</th>\n",
       "      <th>votes</th>\n",
       "      <th>gross</th>\n",
       "    </tr>\n",
       "  </thead>\n",
       "  <tbody>\n",
       "    <tr>\n",
       "      <th>0</th>\n",
       "      <td>0</td>\n",
       "      <td>The Shawshank Redemption</td>\n",
       "      <td>1994</td>\n",
       "      <td>142</td>\n",
       "      <td>Drama</td>\n",
       "      <td>9.3</td>\n",
       "      <td>80.0</td>\n",
       "      <td>Two imprisoned men bond over a number of years...</td>\n",
       "      <td>2,394,059</td>\n",
       "      <td>$28.34M</td>\n",
       "    </tr>\n",
       "    <tr>\n",
       "      <th>1</th>\n",
       "      <td>1</td>\n",
       "      <td>The Godfather</td>\n",
       "      <td>1972</td>\n",
       "      <td>175</td>\n",
       "      <td>Crime, Drama</td>\n",
       "      <td>9.2</td>\n",
       "      <td>100.0</td>\n",
       "      <td>An organized crime dynasty's aging patriarch t...</td>\n",
       "      <td>1,658,439</td>\n",
       "      <td>$134.97M</td>\n",
       "    </tr>\n",
       "    <tr>\n",
       "      <th>2</th>\n",
       "      <td>2</td>\n",
       "      <td>Soorarai Pottru</td>\n",
       "      <td>2020</td>\n",
       "      <td>153</td>\n",
       "      <td>Drama</td>\n",
       "      <td>9.1</td>\n",
       "      <td>NaN</td>\n",
       "      <td>Nedumaaran Rajangam \"Maara\" sets out to make t...</td>\n",
       "      <td>78,266</td>\n",
       "      <td>NaN</td>\n",
       "    </tr>\n",
       "    <tr>\n",
       "      <th>3</th>\n",
       "      <td>3</td>\n",
       "      <td>The Dark Knight</td>\n",
       "      <td>2008</td>\n",
       "      <td>152</td>\n",
       "      <td>Action, Crime, Drama</td>\n",
       "      <td>9.0</td>\n",
       "      <td>84.0</td>\n",
       "      <td>When the menace known as the Joker wreaks havo...</td>\n",
       "      <td>2,355,907</td>\n",
       "      <td>$534.86M</td>\n",
       "    </tr>\n",
       "    <tr>\n",
       "      <th>4</th>\n",
       "      <td>4</td>\n",
       "      <td>The Godfather: Part II</td>\n",
       "      <td>1974</td>\n",
       "      <td>202</td>\n",
       "      <td>Crime, Drama</td>\n",
       "      <td>9.0</td>\n",
       "      <td>90.0</td>\n",
       "      <td>The early life and career of Vito Corleone in ...</td>\n",
       "      <td>1,152,912</td>\n",
       "      <td>$57.30M</td>\n",
       "    </tr>\n",
       "  </tbody>\n",
       "</table>\n",
       "</div>"
      ],
      "text/plain": [
       "   Unnamed: 0                      name  year  runtime                 genre  \\\n",
       "0           0  The Shawshank Redemption  1994      142                 Drama   \n",
       "1           1             The Godfather  1972      175          Crime, Drama   \n",
       "2           2           Soorarai Pottru  2020      153                 Drama   \n",
       "3           3           The Dark Knight  2008      152  Action, Crime, Drama   \n",
       "4           4    The Godfather: Part II  1974      202          Crime, Drama   \n",
       "\n",
       "   rating  metascore                                           timeline  \\\n",
       "0     9.3       80.0  Two imprisoned men bond over a number of years...   \n",
       "1     9.2      100.0  An organized crime dynasty's aging patriarch t...   \n",
       "2     9.1        NaN  Nedumaaran Rajangam \"Maara\" sets out to make t...   \n",
       "3     9.0       84.0  When the menace known as the Joker wreaks havo...   \n",
       "4     9.0       90.0  The early life and career of Vito Corleone in ...   \n",
       "\n",
       "       votes     gross  \n",
       "0  2,394,059   $28.34M  \n",
       "1  1,658,439  $134.97M  \n",
       "2     78,266       NaN  \n",
       "3  2,355,907  $534.86M  \n",
       "4  1,152,912   $57.30M  "
      ]
     },
     "execution_count": 3,
     "metadata": {},
     "output_type": "execute_result"
    }
   ],
   "source": [
    "#return the first 5 rows of the dataset\n",
    "df_data.head()"
   ]
  },
  {
   "cell_type": "code",
   "execution_count": 4,
   "id": "0dcb5c1b",
   "metadata": {
    "id": "0dcb5c1b"
   },
   "outputs": [],
   "source": [
    "# Task 1: Statistical Exploratory Data Analysis"
   ]
  },
  {
   "cell_type": "code",
   "execution_count": 5,
   "id": "58a4b701",
   "metadata": {
    "id": "58a4b701"
   },
   "outputs": [
    {
     "name": "stdout",
     "output_type": "stream",
     "text": [
      "<class 'pandas.core.frame.DataFrame'>\n",
      "RangeIndex: 1000 entries, 0 to 999\n",
      "Data columns (total 10 columns):\n",
      " #   Column      Non-Null Count  Dtype  \n",
      "---  ------      --------------  -----  \n",
      " 0   Unnamed: 0  1000 non-null   int64  \n",
      " 1   name        1000 non-null   object \n",
      " 2   year        1000 non-null   object \n",
      " 3   runtime     1000 non-null   int64  \n",
      " 4   genre       1000 non-null   object \n",
      " 5   rating      1000 non-null   float64\n",
      " 6   metascore   841 non-null    float64\n",
      " 7   timeline    1000 non-null   object \n",
      " 8   votes       1000 non-null   object \n",
      " 9   gross       829 non-null    object \n",
      "dtypes: float64(2), int64(2), object(6)\n",
      "memory usage: 78.2+ KB\n",
      ">>Task 1-a: Details of df_data data frame are: \n",
      " None\n"
     ]
    }
   ],
   "source": [
    "#Print the details of dataframe\n",
    "print (\">>Task 1-a: Details of df_data data frame are: \\n\", df_data.info())"
   ]
  },
  {
   "cell_type": "code",
   "execution_count": 6,
   "id": "ecb1bf2a",
   "metadata": {
    "id": "ecb1bf2a"
   },
   "outputs": [
    {
     "name": "stdout",
     "output_type": "stream",
     "text": [
      "\n",
      "\n",
      ">>Task 1-b: Number of rows:1000 and number of columns:10\n"
     ]
    }
   ],
   "source": [
    "#1-b Find the number of rows and columns in dataset\n",
    "num_rows = len(df_data)\n",
    "num_cols = len(df_data.columns)\n",
    "print (\"\\n\\n>>Task 1-b: Number of rows:%s and number of columns:%s\" % (num_rows, num_cols))"
   ]
  },
  {
   "cell_type": "code",
   "execution_count": 125,
   "id": "66c63718",
   "metadata": {
    "id": "66c63718"
   },
   "outputs": [
    {
     "name": "stdout",
     "output_type": "stream",
     "text": [
      "\n",
      "\n",
      ">>Task 1-c: Descriptive details of 'metascore' and ‘rating’  column are\n",
      " count    841.000000\n",
      "mean      78.158145\n",
      "std       12.289270\n",
      "min       28.000000\n",
      "25%       71.000000\n",
      "50%       79.000000\n",
      "75%       87.000000\n",
      "max      100.000000\n",
      "Name: metascore, dtype: float64 count    1000.000000\n",
      "mean        7.954000\n",
      "std         0.276008\n",
      "min         7.600000\n",
      "25%         7.700000\n",
      "50%         7.900000\n",
      "75%         8.100000\n",
      "max         9.300000\n",
      "Name: rating, dtype: float64\n"
     ]
    }
   ],
   "source": [
    "#1-c Print descriptive detail of a 'metascore' and ‘rating’  column in dataset\n",
    "print (\"\\n\\n>>Task 1-c: Descriptive details of 'metascore' and ‘rating’  column are\\n\", df_data['metascore'].describe(include=[0]),  df_data['rating'].describe(include=[0]))"
   ]
  },
  {
   "cell_type": "code",
   "execution_count": 41,
   "id": "ae3d7eff",
   "metadata": {
    "id": "ae3d7eff"
   },
   "outputs": [
    {
     "name": "stdout",
     "output_type": "stream",
     "text": [
      "\n",
      "\n",
      " >>Task 1-d:\n",
      "['1994' '1972' '2020' '2008' '1974' '1957' '2003' '1993' '2010' '1999'\n",
      " '2001' '1966' '2002' '1990' '1980' '1975' '2019' '2014' '1998' '1997'\n",
      " '1995' '1991' '1977' '1962' '1954' '1946' '2018' '2011' '2006' '2000'\n",
      " '1988' '1985' '1968' '1960' '1942' '1936' '1931' '2017' '2016' 'I 2017'\n",
      " '2012' '2009' '2007' '1984' '1981' '1979' '1963' '1964' '1950' '1940'\n",
      " '2013' 'I 2020' '2005' '2004' '1992' '1987' '1986' '1983' '1976' '1973'\n",
      " '1971' '1959' '1958' '1952' '1948' '1944' '1941' '1927' '1921' '2015'\n",
      " '2021' '1996' '1989' '1978' '1965' '1961' '1953' '1925' '1924' 'III 2016'\n",
      " 'I 2014' 'I 2015' 'I 2013' '1982' '1967' '1955' '1951' '1949' '1939'\n",
      " '1937' '1934' '1930' '1928' '1926' '1920' 'I 2004' '1970' '1969' '1956'\n",
      " '1947' '1945' '1943' 'II 2016' 'I 2011' 'I 2001' '1938' '1935' '1933'\n",
      " '1932' '1922' 'I 2010' 'I 2008' 'I 2007' 'I 1985' 'III 2018' 'II 2015'\n",
      " 'I 2016' 'I 1995']\n",
      "#####################################################\n",
      "118\n"
     ]
    }
   ],
   "source": [
    "#1-d Find all the unique values for a column year and it’s respective length.\n",
    "num_uniq_year= df_data['year'].unique()\n",
    "print (\"\\n\\n >>Task 1-d:\") \n",
    "print(num_uniq_year)\n",
    "print(\"#####################################################\")\n",
    "print(len(num_uniq_year))"
   ]
  },
  {
   "cell_type": "code",
   "execution_count": null,
   "id": "3e17b667",
   "metadata": {
    "id": "3e17b667"
   },
   "outputs": [],
   "source": [
    "# Task 2: Aggregation & Filtering & Rank"
   ]
  },
  {
   "cell_type": "code",
   "execution_count": 28,
   "id": "367f1563",
   "metadata": {
    "id": "367f1563"
   },
   "outputs": [
    {
     "name": "stdout",
     "output_type": "stream",
     "text": [
      ">>Task 2-a: Filter out the data by rating whose rating is greater than 9    Unnamed: 0                      name  year  runtime         genre  rating  \\\n",
      "0           0  The Shawshank Redemption  1994      142         Drama     9.3   \n",
      "1           1             The Godfather  1972      175  Crime, Drama     9.2   \n",
      "2           2           Soorarai Pottru  2020      153         Drama     9.1   \n",
      "\n",
      "   metascore                                           timeline      votes  \\\n",
      "0       80.0  Two imprisoned men bond over a number of years...  2,394,059   \n",
      "1      100.0  An organized crime dynasty's aging patriarch t...  1,658,439   \n",
      "2        NaN  Nedumaaran Rajangam \"Maara\" sets out to make t...     78,266   \n",
      "\n",
      "      gross  \n",
      "0   $28.34M  \n",
      "1  $134.97M  \n",
      "2       NaN  \n"
     ]
    }
   ],
   "source": [
    "#Task 2-a: Filter out the data by rating whose rating is greater than 9 \n",
    "Rating_g = df_data[df_data['rating'] > 9]\n",
    "print (\">>Task 2-a: Filter out the data by rating whose rating is greater than 9 %s\"% (Rating_g))"
   ]
  },
  {
   "cell_type": "code",
   "execution_count": 98,
   "id": "8d3d30a5",
   "metadata": {
    "id": "8d3d30a5"
   },
   "outputs": [
    {
     "name": "stdout",
     "output_type": "stream",
     "text": [
      "\n",
      "\n",
      ">>Task 2-b: The Total number of movies released between 1990 in 2000       Unnamed: 0                      name  year  runtime  \\\n",
      "0             0  The Shawshank Redemption  1994      142   \n",
      "7             7              Pulp Fiction  1994      154   \n",
      "8             8          Schindler's List  1993      195   \n",
      "10           10                Fight Club  1999      139   \n",
      "12           12              Forrest Gump  1994      142   \n",
      "..          ...                       ...   ...      ...   \n",
      "971         971            Only Yesterday  1991      118   \n",
      "972         972              Delicatessen  1991       99   \n",
      "973         973  The Hunt for Red October  1990      135   \n",
      "974         974                Home Alone  1990      103   \n",
      "975         975   The Godfather: Part III  1990      162   \n",
      "\n",
      "                           genre  rating  metascore  \\\n",
      "0                          Drama     9.3       80.0   \n",
      "7                   Crime, Drama     8.9       94.0   \n",
      "8      Biography, Drama, History     8.9       94.0   \n",
      "10                         Drama     8.8       66.0   \n",
      "12                Drama, Romance     8.8       82.0   \n",
      "..                           ...     ...        ...   \n",
      "971    Animation, Drama, Romance     7.6       90.0   \n",
      "972                Comedy, Crime     7.6       66.0   \n",
      "973  Action, Adventure, Thriller     7.6       58.0   \n",
      "974               Comedy, Family     7.6       63.0   \n",
      "975                 Crime, Drama     7.6       60.0   \n",
      "\n",
      "                                              timeline      votes     gross  \n",
      "0    Two imprisoned men bond over a number of years...  2,394,059   $28.34M  \n",
      "7    The lives of two mob hitmen, a boxer, a gangst...  1,862,472  $107.93M  \n",
      "8    In German-occupied Poland during World War II,...  1,236,213   $96.90M  \n",
      "10   An insomniac office worker and a devil-may-car...  1,892,181   $37.03M  \n",
      "12   The presidencies of Kennedy and Johnson, the V...  1,851,357  $330.25M  \n",
      "..                                                 ...        ...       ...  \n",
      "971  A twenty-seven-year-old office worker travels ...     28,254    $0.45M  \n",
      "972  Post-apocalyptic surrealist black comedy about...     81,540    $1.79M  \n",
      "973  In November 1984, the Soviet Union's best subm...    183,908  $122.01M  \n",
      "974  An eight-year-old troublemaker must protect hi...    496,570  $285.76M  \n",
      "975  Follows Michael Corleone, now in his 60s, as h...    367,549   $66.67M  \n",
      "\n",
      "[169 rows x 10 columns]\n"
     ]
    }
   ],
   "source": [
    "#Task 2-b: Total number of movies released between 1990 in 2000\n",
    "df_data['year'] = (df_data['year'].str.replace('I','', regex=True).str.replace(' ','', regex=True)).astype(int)\n",
    "num_movies = df_data[(df_data['year'] >= 1990) & (df_data['year'] <= 2000)]\n",
    "print (\"\\n\\n>>Task 2-b: The Total number of movies released between 1990 in 2000  %s\"% (num_movies))"
   ]
  },
  {
   "cell_type": "code",
   "execution_count": 47,
   "id": "33420292",
   "metadata": {
    "id": "33420292"
   },
   "outputs": [
    {
     "name": "stdout",
     "output_type": "stream",
     "text": [
      "\n",
      "\n",
      ">>Task 2-c: top 10 movies with the highest rating: \n",
      "   Unnamed: 0                                           name  year  runtime  \\\n",
      "0           0                       The Shawshank Redemption  1994      142   \n",
      "1           1                                  The Godfather  1972      175   \n",
      "2           2                                Soorarai Pottru  2020      153   \n",
      "3           3                                The Dark Knight  2008      152   \n",
      "4           4                         The Godfather: Part II  1974      202   \n",
      "5           5                                   12 Angry Men  1957       96   \n",
      "6           6  The Lord of the Rings: The Return of the King  2003      201   \n",
      "7           7                                   Pulp Fiction  1994      154   \n",
      "8           8                               Schindler's List  1993      195   \n",
      "9           9                                      Inception  2010      148   \n",
      "\n",
      "                       genre  rating  metascore  \\\n",
      "0                      Drama     9.3       80.0   \n",
      "1               Crime, Drama     9.2      100.0   \n",
      "2                      Drama     9.1        NaN   \n",
      "3       Action, Crime, Drama     9.0       84.0   \n",
      "4               Crime, Drama     9.0       90.0   \n",
      "5               Crime, Drama     9.0       96.0   \n",
      "6   Action, Adventure, Drama     8.9       94.0   \n",
      "7               Crime, Drama     8.9       94.0   \n",
      "8  Biography, Drama, History     8.9       94.0   \n",
      "9  Action, Adventure, Sci-Fi     8.8       74.0   \n",
      "\n",
      "                                            timeline      votes     gross  \n",
      "0  Two imprisoned men bond over a number of years...  2,394,059   $28.34M  \n",
      "1  An organized crime dynasty's aging patriarch t...  1,658,439  $134.97M  \n",
      "2  Nedumaaran Rajangam \"Maara\" sets out to make t...     78,266       NaN  \n",
      "3  When the menace known as the Joker wreaks havo...  2,355,907  $534.86M  \n",
      "4  The early life and career of Vito Corleone in ...  1,152,912   $57.30M  \n",
      "5  A jury holdout attempts to prevent a miscarria...    706,079    $4.36M  \n",
      "6  Gandalf and Aragorn lead the World of Men agai...  1,672,460  $377.85M  \n",
      "7  The lives of two mob hitmen, a boxer, a gangst...  1,862,472  $107.93M  \n",
      "8  In German-occupied Poland during World War II,...  1,236,213   $96.90M  \n",
      "9  A thief who steals corporate secrets through t...  2,113,984  $292.58M  \n"
     ]
    }
   ],
   "source": [
    "#Task 2-c: Find out the top 10 movies with the highest rating.\n",
    "n = 10\n",
    "top10_movies = df_data.nlargest(n, 'rating')\n",
    "print (\"\\n\\n>>Task 2-c: top 10 movies with the highest rating: \\n%s\" % (top10_movies))"
   ]
  },
  {
   "cell_type": "code",
   "execution_count": null,
   "id": "bc79fa5f",
   "metadata": {
    "id": "bc79fa5f"
   },
   "outputs": [],
   "source": [
    "##TASK 3: VISUALIZATION"
   ]
  },
  {
   "cell_type": "code",
   "execution_count": 103,
   "id": "66dfad03",
   "metadata": {
    "id": "66dfad03"
   },
   "outputs": [
    {
     "data": {
      "image/png": "[encoded data removed]",
      "text/plain": [
       "<Figure size 1080x432 with 1 Axes>"
      ]
     },
     "metadata": {},
     "output_type": "display_data"
    }
   ],
   "source": [
    "#Task 3-a: Plot the comparison of ratings with metascore.\n",
    "sns.set_style('whitegrid')\n",
    "sns.set(font_scale = 1.3)\n",
    "sns.relplot(x=\"rating\", y=\"metascore\", kind=\"line\", estimator=None, data=df_data)\n",
    "plt.gcf().set_size_inches(15, 6)\n",
    "plt.show()"
   ]
  },
  {
   "cell_type": "code",
   "execution_count": 159,
   "id": "62ea18c4",
   "metadata": {
    "id": "62ea18c4"
   },
   "outputs": [
    {
     "data": {
      "image/png": "[encoded data removed]",
      "text/plain": [
       "<Figure size 432x288 with 1 Axes>"
      ]
     },
     "metadata": {},
     "output_type": "display_data"
    }
   ],
   "source": [
    "# task 3b: Draw a pie chart that shows the number of movies between 1990 and 2000.\n",
    "#define Seaborn color palette to use\n",
    "colors = sns.color_palette('pastel')[0:2]\n",
    "#create pie chart\n",
    "#num_movies.groupby('year').size().plot.pie(figsize=(12,12), shadow = False,startangle=90,autopct='%1.1f%%')\n",
    "#plt.show()\n",
    "result = num_movies.groupby(['year']).size()\n",
    " \n",
    "# plot the result\n",
    "#sns.barplot(x = result.index, y = result.values)\n",
    "plt.pie(result.values, labels = result.index, colors = colors, autopct = '%0.0f%%')\n",
    "plt.show()"
   ]
  },
  {
   "cell_type": "code",
   "execution_count": 160,
   "id": "481628aa",
   "metadata": {
    "id": "481628aa",
    "scrolled": true
   },
   "outputs": [
    {
     "data": {
      "image/png": "[encoded data removed]",
      "text/plain": [
       "<Figure size 1728x360 with 1 Axes>"
      ]
     },
     "metadata": {},
     "output_type": "display_data"
    }
   ],
   "source": [
    "#Task4 finding an interesting pattern\n",
    "wordcount = {}\n",
    "for word in num_movies['genre']:\n",
    "    word = word.lower().split(',')\n",
    "    for genre in word:\n",
    "        data=genre.strip()\n",
    "        if data not in wordcount:\n",
    "            wordcount[data] = 1\n",
    "        else:\n",
    "            wordcount[data] += 1\n",
    "\n",
    "wordcount = dict(sorted(wordcount.items(), key=lambda x: x[1], reverse=True))\n",
    "\n",
    "# Get the Keys and store them in a list\n",
    "labels = list(wordcount.keys())\n",
    "\n",
    "# Get the Values and store them in a list\n",
    "values = list(wordcount.values())\n",
    "f, ax = plt.subplots(figsize=(24,5))\n",
    "plt.bar(labels, values)\n",
    "plt.show()\n",
    "\n",
    "#From the above data, we can identify that between the years 1990 and 2000, highest number movies are relased in Drama Genre where as least number of movies are released in musical genre"
   ]
  },
  {
   "cell_type": "code",
   "execution_count": null,
   "id": "6b4038c7",
   "metadata": {},
   "outputs": [],
   "source": []
  }
 ],
 "metadata": {
  "colab": {
   "collapsed_sections": [],
   "name": "DM-Assignment-1-R.ipynb",
   "provenance": []
  },
  "kernelspec": {
   "display_name": "Python 3 (ipykernel)",
   "language": "python",
   "name": "python3"
  },
  "language_info": {
   "codemirror_mode": {
    "name": "ipython",
    "version": 3
   },
   "file_extension": ".py",
   "mimetype": "text/x-python",
   "name": "python",
   "nbconvert_exporter": "python",
   "pygments_lexer": "ipython3",
   "version": "3.9.7"
  }
 },
 "nbformat": 4,
 "nbformat_minor": 5
}
